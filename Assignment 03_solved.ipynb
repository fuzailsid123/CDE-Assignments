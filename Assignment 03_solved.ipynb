{
 "cells": [
  {
   "cell_type": "code",
   "execution_count": null,
   "metadata": {},
   "outputs": [
    {
     "name": "stdout",
     "output_type": "stream",
     "text": [
      "3\n"
     ]
    }
   ],
   "source": [
    "#Q1\n",
    "var = input(\"Enter your string: \")\n",
    "count = 0\n",
    "for i in range(len(var)):\n",
    "    if(var[i] == 'a' or var[i] == 'e' or var[i] == 'i' or var[i] == 'o' or var[i] == 'u'):\n",
    "        count += 1\n",
    "print(count)"
   ]
  },
  {
   "cell_type": "code",
   "execution_count": 11,
   "metadata": {},
   "outputs": [
    {
     "name": "stdout",
     "output_type": "stream",
     "text": [
      "Number of uppercase letters: 3\n",
      "Number of lowercase letters: 16\n",
      "Number of digits: 3\n",
      "Number of whitespace characters: 3\n"
     ]
    }
   ],
   "source": [
    "#Q2\n",
    "var = input(\"Enter a string: \")\n",
    "uppercase_count = 0\n",
    "lowercase_count = 0\n",
    "digit_count = 0\n",
    "whitespace_count = 0\n",
    "\n",
    "for n in var:\n",
    "    if n.isupper():\n",
    "        uppercase_count += 1\n",
    "    elif n.islower():\n",
    "        lowercase_count += 1\n",
    "    elif n.isdigit():\n",
    "        digit_count +=1\n",
    "    elif n.isspace():\n",
    "        whitespace_count +=1\n",
    "print(\"Number of uppercase letters:\", uppercase_count)\n",
    "print(\"Number of lowercase letters:\", lowercase_count)\n",
    "print(\"Number of digits:\", digit_count)\n",
    "print(\"Number of whitespace characters:\", whitespace_count)"
   ]
  },
  {
   "cell_type": "code",
   "execution_count": null,
   "metadata": {},
   "outputs": [
    {
     "name": "stdout",
     "output_type": "stream",
     "text": [
      "New string: luzaif\n"
     ]
    }
   ],
   "source": [
    "#Q3\n",
    "var = input(\"Enter a string: \")\n",
    "\n",
    "if len(var) < 2:\n",
    "    var2 = var\n",
    "else:\n",
    "    var2 = var[-1] + var[1:-1] + var[0]\n",
    "\n",
    "print(\"New string:\", var2)"
   ]
  },
  {
   "cell_type": "code",
   "execution_count": null,
   "metadata": {},
   "outputs": [
    {
     "name": "stdout",
     "output_type": "stream",
     "text": [
      "Reversed string: liazuF\n"
     ]
    }
   ],
   "source": [
    "#Q4\n",
    "var1 = input(\"Enter a string: \")\n",
    "var2 = var1[::-1]\n",
    "print(\"Reversed string:\", var2)"
   ]
  },
  {
   "cell_type": "code",
   "execution_count": null,
   "metadata": {},
   "outputs": [
    {
     "name": "stdout",
     "output_type": "stream",
     "text": [
      "New string:  xamination 2021e\n"
     ]
    }
   ],
   "source": [
    "#Q5\n",
    "var = input(\"Enter a string: \")\n",
    "new_var = var[1: ] + var[0]\n",
    "print(\"New string: \", new_var)"
   ]
  },
  {
   "cell_type": "code",
   "execution_count": 26,
   "metadata": {},
   "outputs": [
    {
     "name": "stdout",
     "output_type": "stream",
     "text": [
      "Initials: .F.A.S\n"
     ]
    }
   ],
   "source": [
    "#Q6\n",
    "var = input(\"Enter a string: \")\n",
    "first = \"\"\n",
    "for i in range(len(var)):\n",
    "    if i == 0 or var[i-1] == ' ':\n",
    "        first += '.' + var[i].upper()\n",
    "\n",
    "print(\"Initials:\", first.strip())"
   ]
  },
  {
   "cell_type": "code",
   "execution_count": null,
   "metadata": {},
   "outputs": [
    {
     "name": "stdout",
     "output_type": "stream",
     "text": [
      "Reversed string: madam\n",
      "The string is palindrome\n"
     ]
    }
   ],
   "source": [
    "#Q7\n",
    "var1 = input(\"Enter a string: \")\n",
    "var2 = var1[::-1]\n",
    "print(\"Reversed string:\", var2)\n",
    "if( var1 == var2) :\n",
    "    print(\"The string is palindrome\")"
   ]
  },
  {
   "cell_type": "code",
   "execution_count": null,
   "metadata": {},
   "outputs": [
    {
     "name": "stdout",
     "output_type": "stream",
     "text": [
      "SHIFT\n",
      "HIFTS\n",
      "IFTSH\n",
      "FTSHI\n",
      "TSHIF\n",
      "SHIFT\n"
     ]
    }
   ],
   "source": [
    "#Q8\n",
    "var = input(\"Enter a string: \")\n",
    "var1 = var[1: ] + var[0]\n",
    "var2 = var[2: ] + var[0:2]\n",
    "var3 = var[3: ] + var[0:3]\n",
    "var4 = var[len(var)-1] + var[0:4]\n",
    "print(var)\n",
    "print(var1)\n",
    "print(var2)\n",
    "print(var3)\n",
    "print(var4)\n",
    "print(var)"
   ]
  },
  {
   "cell_type": "code",
   "execution_count": null,
   "metadata": {},
   "outputs": [
    {
     "name": "stdout",
     "output_type": "stream",
     "text": [
      "Invalid Password!Your password must contain atleast 8 characters\n"
     ]
    }
   ],
   "source": [
    "#Q9\n",
    "var = input(\"Enter your password: \")\n",
    "\n",
    "upper = False\n",
    "lower = False\n",
    "digit = False\n",
    "\n",
    "for n in var:\n",
    "    if n.isupper():\n",
    "        upper = True\n",
    "    elif n.islower():\n",
    "        lower = True\n",
    "    elif n.isdigit():\n",
    "        digit = True\n",
    "\n",
    "if (len(var)-1) < 8 :\n",
    "    print(\"Invalid Password!Your password must contain atleast 8 characters\")\n",
    "elif not upper:\n",
    "    print(\"Invalid Password! Your password must contain atleast one uppercase letter.\")\n",
    "elif not lower:\n",
    "    print(\"Invalid Password! Your password must contain atleast one lowercase letter.\")\n",
    "elif not digit:\n",
    "    print(\"Invalid Password! Your password must contain atleast one numeric digit.\")\n",
    "else:\n",
    "    print(\"Valid Password.\")\n",
    "    \n",
    "    "
   ]
  }
 ],
 "metadata": {
  "kernelspec": {
   "display_name": "Python 3",
   "language": "python",
   "name": "python3"
  },
  "language_info": {
   "codemirror_mode": {
    "name": "ipython",
    "version": 3
   },
   "file_extension": ".py",
   "mimetype": "text/x-python",
   "name": "python",
   "nbconvert_exporter": "python",
   "pygments_lexer": "ipython3",
   "version": "3.13.2"
  }
 },
 "nbformat": 4,
 "nbformat_minor": 2
}
