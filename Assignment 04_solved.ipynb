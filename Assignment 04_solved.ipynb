{
 "cells": [
  {
   "cell_type": "code",
   "execution_count": null,
   "metadata": {},
   "outputs": [
    {
     "name": "stdout",
     "output_type": "stream",
     "text": [
      "['1', '2', '3', '4', '5', '6', '7', '8']\n",
      "Alternate elements :\n",
      "1\n",
      "3\n",
      "5\n",
      "7\n"
     ]
    }
   ],
   "source": [
    "# Q1\n",
    "user_input = input(\"Enter your list of elements: \")\n",
    "lst = user_input.split()\n",
    "print(list(lst))\n",
    "\n",
    "print(\"Alternate elements :\")\n",
    "for i in range(0, len(lst), 2):\n",
    "    print(lst[i])"
   ]
  },
  {
   "cell_type": "code",
   "execution_count": 22,
   "metadata": {},
   "outputs": [
    {
     "name": "stdout",
     "output_type": "stream",
     "text": [
      "Reversed list: ['3', '2']\n"
     ]
    }
   ],
   "source": [
    "# Q2\n",
    "n = int(input(\"Enter the number of elements in the list: \"))\n",
    "lst = []\n",
    "i = 0\n",
    "for i in range(n):\n",
    "    element = input(\"Enter element \" + str(i+1) + \" of the list: \")\n",
    "    lst.append(element)\n",
    "\n",
    "reversed_lst = lst[::-1]\n",
    "print(\"Reversed list:\", reversed_lst)"
   ]
  },
  {
   "cell_type": "code",
   "execution_count": 26,
   "metadata": {},
   "outputs": [
    {
     "name": "stdout",
     "output_type": "stream",
     "text": [
      "Maximum element in the list is:  9\n"
     ]
    }
   ],
   "source": [
    "#Q3\n",
    "n = int(input(\"Enter the number of elements in the list: \"))\n",
    "lst = []\n",
    "\n",
    "for i in range(n):\n",
    "    element = input(\"Enter element \" + str(i+1) + \" of the list: \")\n",
    "    lst.append(element)\n",
    "\n",
    "maximum = lst[0]\n",
    "for i in lst:\n",
    "    if(i > maximum):\n",
    "        maximum = i\n",
    "print(\"Maximum element in the list is: \",maximum)"
   ]
  },
  {
   "cell_type": "code",
   "execution_count": null,
   "metadata": {},
   "outputs": [
    {
     "name": "stdout",
     "output_type": "stream",
     "text": [
      "Rotated list: ['7', '2', '4', '6']\n"
     ]
    }
   ],
   "source": [
    "#Q4\n",
    "rotated_lst = lst[-1:] + lst[:-1]\n",
    "print(\"Rotated list:\", rotated_lst)"
   ]
  },
  {
   "cell_type": "code",
   "execution_count": null,
   "metadata": {},
   "outputs": [
    {
     "name": "stdout",
     "output_type": "stream",
     "text": [
      "String before deleting the word:  Fuzail\n",
      "String after deleting the word: uzail\n",
      "List after deleting the word:  ['u', 'z', 'a', 'i', 'l']\n"
     ]
    }
   ],
   "source": [
    "#Q5\n",
    "str1 = input(\"Enter a string: \")\n",
    "dlt = input(\"Enter the word to delete: \")\n",
    "print(\"String before deleting the word: \",str1)\n",
    "str2 = str1.replace(dlt, \"\")\n",
    "print(\"String after deleting the word:\", str2)\n",
    "print(\"List after deleting the word: \",list(str2))\n"
   ]
  },
  {
   "cell_type": "code",
   "execution_count": 31,
   "metadata": {},
   "outputs": [
    {
     "name": "stdout",
     "output_type": "stream",
     "text": [
      "The date is:  december 3, 2024\n"
     ]
    }
   ],
   "source": [
    "# Q6\n",
    "date = input(\"Enter a date(mm/dd/yyy): \")\n",
    "month, day, year = date.split(\"/\")\n",
    "months = ['january','february','march','april','may','june','july','august','september','october','november','december']\n",
    "date_month = months[int(month)-1]\n",
    "new_date = f\"{date_month} {int(day)}, {int(year)}\"\n",
    "print(\"The date is: \",new_date)"
   ]
  },
  {
   "cell_type": "code",
   "execution_count": null,
   "metadata": {},
   "outputs": [],
   "source": [
    "str = input(\"Enter a sentence\")\n",
    "word = str.split()\n",
    "new_str = []\n",
    "for i in word:\n",
    "    new_str.append(i.capitalize())\n",
    "print(\"Capitalized Sentence:\",' '.join(new_str))\n",
    "\n"
   ]
  },
  {
   "cell_type": "code",
   "execution_count": 1,
   "metadata": {},
   "outputs": [
    {
     "name": "stdout",
     "output_type": "stream",
     "text": [
      "Enter the number of rows in the matrix:  3\n",
      "Enter the number of columns in the matrix:  3\n"
     ]
    },
    {
     "name": "stdout",
     "output_type": "stream",
     "text": [
      "Enter the elements of the matrix row by row:\n"
     ]
    },
    {
     "name": "stdout",
     "output_type": "stream",
     "text": [
      "Enter element for row 1, column 1:  1\n",
      "Enter element for row 1, column 2:  3\n",
      "Enter element for row 1, column 3:  5\n",
      "Enter element for row 2, column 1:  2\n",
      "Enter element for row 2, column 2:  4\n",
      "Enter element for row 2, column 3:  6\n",
      "Enter element for row 3, column 1:  7\n",
      "Enter element for row 3, column 2:  8\n",
      "Enter element for row 3, column 3:  9\n"
     ]
    },
    {
     "name": "stdout",
     "output_type": "stream",
     "text": [
      "\n",
      "Matrix:\n",
      "[1, 3, 5]\n",
      "[2, 4, 6]\n",
      "[7, 8, 9]\n",
      "\n",
      "Sum of each row:\n",
      "Sum of row 1: 9\n",
      "Sum of row 2: 12\n",
      "Sum of row 3: 24\n"
     ]
    }
   ],
   "source": [
    "# Input the dimensions of the matrix\n",
    "m = int(input(\"Enter the number of rows in the matrix: \"))\n",
    "n = int(input(\"Enter the number of columns in the matrix: \"))\n",
    "\n",
    "# Initialize the matrix\n",
    "matrix = []\n",
    "\n",
    "# Input the elements of the matrix\n",
    "print(\"Enter the elements of the matrix row by row:\")\n",
    "for i in range(m):\n",
    "    row = []\n",
    "    for j in range(n):\n",
    "        element = int(input(f\"Enter element for row {i+1}, column {j+1}: \"))\n",
    "        row.append(element)\n",
    "    matrix.append(row)\n",
    "\n",
    "# Calculate and print the sum of each row\n",
    "print(\"\\nMatrix:\")\n",
    "for row in matrix:\n",
    "    print(row)\n",
    "\n",
    "print(\"\\nSum of each row:\")\n",
    "for i in range(m):\n",
    "    row_sum = sum(matrix[i])\n",
    "    print(f\"Sum of row {i+1}: {row_sum}\")"
   ]
  },
  {
   "cell_type": "code",
   "execution_count": 3,
   "metadata": {},
   "outputs": [
    {
     "name": "stdout",
     "output_type": "stream",
     "text": [
      "Enter the number of rows (n):  3\n",
      "Enter the number of columns (m):  2\n"
     ]
    },
    {
     "name": "stdout",
     "output_type": "stream",
     "text": [
      "Enter elements of the first matrix:\n"
     ]
    },
    {
     "name": "stdout",
     "output_type": "stream",
     "text": [
      "Enter element for row 1, column 1:  2\n",
      "Enter element for row 1, column 2:  4\n",
      "Enter element for row 2, column 1:  6\n",
      "Enter element for row 2, column 2:  8\n",
      "Enter element for row 3, column 1:  10\n",
      "Enter element for row 3, column 2:  7\n"
     ]
    },
    {
     "name": "stdout",
     "output_type": "stream",
     "text": [
      "Enter elements of the second matrix:\n"
     ]
    },
    {
     "name": "stdout",
     "output_type": "stream",
     "text": [
      "Enter element for row 1, column 1:  1\n",
      "Enter element for row 1, column 2:  3\n",
      "Enter element for row 2, column 1:  5\n",
      "Enter element for row 2, column 2:  7\n",
      "Enter element for row 3, column 1:  9\n",
      "Enter element for row 3, column 2:  2\n"
     ]
    },
    {
     "name": "stdout",
     "output_type": "stream",
     "text": [
      "Resultant matrix after addition:\n",
      "3 7\n",
      "11 15\n",
      "19 9\n",
      "\n",
      "Matrix3:\n",
      "[3, 7]\n",
      "[11, 15]\n",
      "[19, 9]\n"
     ]
    }
   ],
   "source": [
    "#Q9\n",
    "n = int(input(\"Enter the number of rows (n): \"))\n",
    "m = int(input(\"Enter the number of columns (m): \"))\n",
    "\n",
    "print(\"Enter elements of the first matrix:\")\n",
    "matrix1 = []\n",
    "for i in range(n):\n",
    "    row = []\n",
    "    for j in range(m):\n",
    "        element = int(input(f\"Enter element for row {i+1}, column {j+1}: \"))\n",
    "        row.append(element)\n",
    "    matrix1.append(row)\n",
    "\n",
    "print(\"Enter elements of the second matrix:\")\n",
    "matrix2 = []\n",
    "for i in range(n):\n",
    "    row = []\n",
    "    for j in range(m):\n",
    "        element = int(input(f\"Enter element for row {i+1}, column {j+1}: \"))\n",
    "        row.append(element)\n",
    "    matrix2.append(row)\n",
    "\n",
    "# Add the matrices\n",
    "matrix3 = []\n",
    "for i in range(n):\n",
    "    row = []\n",
    "    for j in range(m): \n",
    "        row.append(matrix1[i][j] + matrix2[i][j])\n",
    "    matrix3.append(row)\n",
    "\n",
    "print(\"Resultant matrix after addition:\")\n",
    "for row in matrix3:\n",
    "    print(\" \".join(map(str, row))) \n",
    "print(\"\\nMatrix3:\")\n",
    "for row in matrix3:\n",
    "    print(row)"
   ]
  },
  {
   "cell_type": "code",
   "execution_count": null,
   "metadata": {},
   "outputs": [],
   "source": [
    "#Q10\n",
    "n = int(input(\"Enter the number of rows (n): \"))\n",
    "m = int(input(\"Enter the number of columns (m): \"))\n",
    "\n",
    "print(\"Enter elements of the first matrix:\")\n",
    "matrix1 = []\n",
    "for i in range(n):\n",
    "    row = []\n",
    "    for j in range(m):\n",
    "        element = int(input(f\"Enter element for row {i+1}, column {j+1}: \"))\n",
    "        row.append(element)\n",
    "    matrix1.append(row)\n",
    "\n",
    "print(\"Enter elements of the second matrix:\")\n",
    "matrix2 = []\n",
    "for i in range(n):\n",
    "    row = []\n",
    "    for j in range(m):\n",
    "        element = int(input(f\"Enter element for row {i+1}, column {j+1}: \"))\n",
    "        row.append(element)\n",
    "    matrix2.append(row)\n",
    "\n",
    "# Add the matrices\n",
    "matrix3 = []\n",
    "for i in range(n):\n",
    "    row = []\n",
    "    for j in range(m): \n",
    "        row.append(matrix1[i][j] + matrix2[i][j])\n",
    "    matrix3.append(row)\n",
    "\n",
    "# print(\"Resultant matrix after addition:\")\n",
    "# for row in matrix3:\n",
    "#     print(\" \".join(map(str, row))) \n",
    "print(\"\\nMatrix3:\")\n",
    "for row in matrix3:\n",
    "    print(row)"
   ]
  },
  {
   "cell_type": "code",
   "execution_count": 6,
   "metadata": {},
   "outputs": [
    {
     "name": "stdout",
     "output_type": "stream",
     "text": [
      "Enter the number of rows (n):  3\n",
      "Enter the number of columns (m):  2\n"
     ]
    },
    {
     "name": "stdout",
     "output_type": "stream",
     "text": [
      "Enter elements of the first matrix:\n"
     ]
    },
    {
     "name": "stdout",
     "output_type": "stream",
     "text": [
      "Enter element for row 1, column 1:  1\n",
      "Enter element for row 1, column 2:  3\n",
      "Enter element for row 2, column 1:  5\n",
      "Enter element for row 2, column 2:  9\n",
      "Enter element for row 3, column 1:  11\n",
      "Enter element for row 3, column 2:  7\n"
     ]
    },
    {
     "name": "stdout",
     "output_type": "stream",
     "text": [
      "[1, 3]\n",
      "[5, 9]\n",
      "[11, 7]\n",
      "Enter elements of the second matrix:\n"
     ]
    },
    {
     "name": "stdout",
     "output_type": "stream",
     "text": [
      "Enter element for row 1, column 1:  2\n",
      "Enter element for row 1, column 2:  4\n",
      "Enter element for row 2, column 1:  6\n",
      "Enter element for row 2, column 2:  9\n",
      "Enter element for row 3, column 1:  10\n",
      "Enter element for row 3, column 2:  8\n"
     ]
    },
    {
     "name": "stdout",
     "output_type": "stream",
     "text": [
      "[2, 4]\n",
      "[6, 9]\n",
      "[10, 8]\n",
      "\n",
      "Matrix3:\n",
      "[2, 12]\n",
      "[30, 81]\n",
      "[110, 56]\n"
     ]
    }
   ],
   "source": [
    "#Q10\n",
    "n = int(input(\"Enter the number of rows (n): \"))\n",
    "m = int(input(\"Enter the number of columns (m): \"))\n",
    "\n",
    "print(\"Enter elements of the first matrix:\")\n",
    "matrix1 = []\n",
    "for i in range(n):\n",
    "    row = []\n",
    "    for j in range(m):\n",
    "        element = int(input(f\"Enter element for row {i+1}, column {j+1}: \"))\n",
    "        row.append(element)\n",
    "    matrix1.append(row)\n",
    "for row in matrix1:\n",
    "    print(row)\n",
    "\n",
    "print(\"Enter elements of the second matrix:\")\n",
    "matrix2 = []\n",
    "for i in range(n):\n",
    "    row = []\n",
    "    for j in range(m):\n",
    "        element = int(input(f\"Enter element for row {i+1}, column {j+1}: \"))\n",
    "        row.append(element)\n",
    "    matrix2.append(row)\n",
    "for row in matrix2:\n",
    "    print(row)\n",
    "\n",
    "matrix3 = []\n",
    "for i in range(n):\n",
    "    row = []\n",
    "    for j in range(m): \n",
    "        row.append(matrix1[i][j] * matrix2[i][j])\n",
    "    matrix3.append(row)\n",
    "\n",
    "# print(\"Resultant matrix after addition:\")\n",
    "# for row in matrix3:\n",
    "#     print(\" \".join(map(str, row))) \n",
    "print(\"\\nMatrix3:\")\n",
    "for row in matrix3:\n",
    "    print(row)"
   ]
  },
  {
   "cell_type": "code",
   "execution_count": null,
   "metadata": {},
   "outputs": [],
   "source": []
  }
 ],
 "metadata": {
  "kernelspec": {
   "display_name": "Python 3",
   "language": "python",
   "name": "python3"
  },
  "language_info": {
   "codemirror_mode": {
    "name": "ipython",
    "version": 3
   },
   "file_extension": ".py",
   "mimetype": "text/x-python",
   "name": "python",
   "nbconvert_exporter": "python",
   "pygments_lexer": "ipython3",
   "version": "3.13.2"
  }
 },
 "nbformat": 4,
 "nbformat_minor": 4
}
