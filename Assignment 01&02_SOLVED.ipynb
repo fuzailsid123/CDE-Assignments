{
 "cells": [
  {
   "cell_type": "markdown",
   "metadata": {},
   "source": [
    "# Part -1 Python Basics (Variables)"
   ]
  },
  {
   "cell_type": "markdown",
   "metadata": {},
   "source": [
    "1. Print Your Name with your Father name and Date of birth using suitable escape sequence charactor"
   ]
  },
  {
   "cell_type": "code",
   "execution_count": 1,
   "metadata": {},
   "outputs": [
    {
     "name": "stdout",
     "output_type": "stream",
     "text": [
      "Name: Fuzail Siddiqui\n",
      "Father's Name: Siddiqui\n",
      "Date of birth: 13/03/2004\n",
      "\n"
     ]
    }
   ],
   "source": [
    "print(\"Name: Fuzail Siddiqui\\nFather's Name: Siddiqui\\nDate of birth: 13/03/2004\\n\")"
   ]
  },
  {
   "cell_type": "markdown",
   "metadata": {},
   "source": [
    "2. Write your small bio using variables and print it using print function"
   ]
  },
  {
   "cell_type": "code",
   "execution_count": 10,
   "metadata": {},
   "outputs": [
    {
     "name": "stdout",
     "output_type": "stream",
     "text": [
      "My name is Fuzail Siddiqui, I am 20 years old, and I am currently studying Cloud Data Engineering.\n"
     ]
    }
   ],
   "source": [
    "name = \"Fuzail Siddiqui\"\n",
    "age = \"20\"\n",
    "profession = \"Cloud Data Engineering\"\n",
    "print(\"My name is \" + name + \", I am \" + age + \" years old, and I am currently studying \" + profession + \".\")"
   ]
  },
  {
   "cell_type": "markdown",
   "metadata": {},
   "source": [
    "3. Write a program in which use all the operators we can use in Python"
   ]
  },
  {
   "cell_type": "code",
   "execution_count": 12,
   "metadata": {},
   "outputs": [
    {
     "name": "stdout",
     "output_type": "stream",
     "text": [
      "Addition: 15\n",
      "Subtraction: 5\n",
      "Multiplication: 50\n",
      "Division: 2.0\n",
      "Modulus: 0\n",
      "Exponentiation: 100000\n",
      "Equal: False\n",
      "Not Equal: True\n",
      "Greater Than: True\n",
      "Less Than: False\n",
      "Greater Than or Equal: True\n",
      "Less Than or Equal: False\n"
     ]
    }
   ],
   "source": [
    "# Write your code here\n",
    "a = 10\n",
    "b = 5\n",
    "\n",
    "addition = a + b\n",
    "subtraction = a - b\n",
    "multiplication = a * b\n",
    "division = a / b\n",
    "modulus = a % b\n",
    "exponentiation = a ** b\n",
    "\n",
    "equal = (a == b)\n",
    "not_equal = (a != b)\n",
    "greater_than = (a > b)\n",
    "less_than = (a < b)\n",
    "greater_than_or_equal = (a >= b)\n",
    "less_than_or_equal = (a <= b)\n",
    "\n",
    "print(\"Addition:\", addition)\n",
    "print(\"Subtraction:\", subtraction)\n",
    "print(\"Multiplication:\", multiplication)\n",
    "print(\"Division:\", division)\n",
    "print(\"Modulus:\", modulus)\n",
    "print(\"Exponentiation:\", exponentiation)\n",
    "\n",
    "print(\"Equal:\", equal)\n",
    "print(\"Not Equal:\", not_equal)\n",
    "print(\"Greater Than:\", greater_than)\n",
    "print(\"Less Than:\", less_than)\n",
    "print(\"Greater Than or Equal:\", greater_than_or_equal)\n",
    "print(\"Less Than or Equal:\", less_than_or_equal)"
   ]
  },
  {
   "cell_type": "markdown",
   "metadata": {},
   "source": [
    "4. Completes the following steps of small task:\n",
    "    - Mention Marks of English , Islamiat and Maths out of 100 in 3 different variables\n",
    "    - Mention Variable of Total Marks and assign 300 to it\n",
    "    - Calculate Percentage"
   ]
  },
  {
   "cell_type": "code",
   "execution_count": 15,
   "metadata": {},
   "outputs": [
    {
     "name": "stdout",
     "output_type": "stream",
     "text": [
      "The percentage is:  83.66666666666667\n"
     ]
    }
   ],
   "source": [
    "# Write your code here\n",
    "English = 72\n",
    "Maths = 92\n",
    "Islamiat = 87\n",
    "Total_marks = 300\n",
    "print(\"The percentage is: \",((English+Maths+Islamiat)/Total_marks)*100)"
   ]
  },
  {
   "cell_type": "markdown",
   "metadata": {},
   "source": [
    "# Part -2 Python Basics (Conditional Statements)"
   ]
  },
  {
   "cell_type": "markdown",
   "metadata": {},
   "source": [
    "1) A company decided to give bonus of 5% to employee if his/her year of service is more than 5 years.\n",
    "Ask user for their salary and year of service and print the net bonus amount."
   ]
  },
  {
   "cell_type": "code",
   "execution_count": 16,
   "metadata": {},
   "outputs": [
    {
     "name": "stdout",
     "output_type": "stream",
     "text": [
      "Enter your salary:  2500000\n",
      "Years of service:  6\n"
     ]
    },
    {
     "name": "stdout",
     "output_type": "stream",
     "text": [
      "Net bonus amount:  12500.0\n"
     ]
    }
   ],
   "source": [
    "#Type your code here\n",
    "salary = int(input(\"Enter your salary: \"))\n",
    "yrs = int(input(\"Years of service: \"))\n",
    "if (yrs>5) :\n",
    "    print(\"Net bonus amount: \",(5/100)*salary)\n",
    "else :\n",
    "    print(\"No bonus will be given\")\n",
    "    "
   ]
  },
  {
   "cell_type": "markdown",
   "metadata": {},
   "source": [
    "\n",
    "2) Write a program to check whether a person is eligible for voting or not. (accept age from user) if age is greater than 17 eligible otherwise not eligible"
   ]
  },
  {
   "cell_type": "code",
   "execution_count": 18,
   "metadata": {},
   "outputs": [
    {
     "name": "stdout",
     "output_type": "stream",
     "text": [
      "Enter your age:  14\n"
     ]
    },
    {
     "name": "stdout",
     "output_type": "stream",
     "text": [
      "Not eligible to vote\n"
     ]
    }
   ],
   "source": [
    "#Type your code here\n",
    "age = int(input(\"Enter your age: \"))\n",
    "if (age > 17) :\n",
    "    print(\"Eligible to vote\")\n",
    "else :\n",
    "    print(\"Not eligible to vote\")"
   ]
  },
  {
   "cell_type": "markdown",
   "metadata": {},
   "source": [
    "\n",
    "3) Write a program to check whether a number entered by user is even or odd."
   ]
  },
  {
   "cell_type": "code",
   "execution_count": 20,
   "metadata": {},
   "outputs": [
    {
     "name": "stdout",
     "output_type": "stream",
     "text": [
      "Enter youtr number:  23\n"
     ]
    },
    {
     "name": "stdout",
     "output_type": "stream",
     "text": [
      "Number is odd\n"
     ]
    }
   ],
   "source": [
    "#Type your code here\n",
    "num = int(input(\"Enter youtr number: \"))\n",
    "if (num%2 == 0) :\n",
    "    print(\"Number is even\")\n",
    "else :\n",
    "    print(\"Number is odd\")"
   ]
  },
  {
   "cell_type": "markdown",
   "metadata": {},
   "source": [
    "4) Write a program to check whether a number is divisible by 7 or not.\n",
    "Show Answer"
   ]
  },
  {
   "cell_type": "code",
   "execution_count": 22,
   "metadata": {},
   "outputs": [
    {
     "name": "stdout",
     "output_type": "stream",
     "text": [
      "Enter your number:  73\n"
     ]
    },
    {
     "name": "stdout",
     "output_type": "stream",
     "text": [
      "Not divisible\n"
     ]
    }
   ],
   "source": [
    "#Type your code here\n",
    "num = int(input(\"Enter your number: \"))\n",
    "if (num%7 == 0) :\n",
    "    print(\"Number is divisible by 7\")\n",
    "else :\n",
    "    print(\"Not divisible\")"
   ]
  },
  {
   "cell_type": "markdown",
   "metadata": {},
   "source": [
    "5) Write a program to display \n",
    "\"Hello\" if a number entered by user is a multiple of five , otherwise print \"Bye\"."
   ]
  },
  {
   "cell_type": "code",
   "execution_count": 24,
   "metadata": {},
   "outputs": [
    {
     "name": "stdout",
     "output_type": "stream",
     "text": [
      "Enter your number:  2\n"
     ]
    },
    {
     "name": "stdout",
     "output_type": "stream",
     "text": [
      "Not a multiple of five\n"
     ]
    }
   ],
   "source": [
    "#Type your code here\n",
    "num = int(input(\"Enter your number: \"))\n",
    "if (num%5 == 0) :\n",
    "    print(\"Number is a multiple of five\")\n",
    "else :\n",
    "    print(\"Not a multiple of five\")"
   ]
  },
  {
   "cell_type": "markdown",
   "metadata": {},
   "source": [
    "7) Write a program to display the last digit of a number.\n"
   ]
  },
  {
   "cell_type": "code",
   "execution_count": 26,
   "metadata": {},
   "outputs": [
    {
     "name": "stdout",
     "output_type": "stream",
     "text": [
      "Enter your number:  1567\n"
     ]
    },
    {
     "name": "stdout",
     "output_type": "stream",
     "text": [
      "The last digit of the number is  7\n"
     ]
    }
   ],
   "source": [
    "#Type your code here\n",
    "num = int(input(\"Enter your number: \"))\n",
    "rem = num%10\n",
    "print(\"The last digit of the number is \",rem)"
   ]
  },
  {
   "cell_type": "markdown",
   "metadata": {},
   "source": [
    "9) Take values of length and breadth of a rectangle from user and print if it is square or rectangle."
   ]
  },
  {
   "cell_type": "code",
   "execution_count": 28,
   "metadata": {},
   "outputs": [
    {
     "name": "stdout",
     "output_type": "stream",
     "text": [
      "Enter the length 4\n",
      "Enter the breadth 4\n"
     ]
    },
    {
     "name": "stdout",
     "output_type": "stream",
     "text": [
      "It's a square\n"
     ]
    }
   ],
   "source": [
    "#Type your code here \n",
    "l = int(input(\"Enter the length\"))\n",
    "b = int(input(\"Enter the breadth\"))\n",
    "if (l == b) :\n",
    "    print(\"It's a square\")\n",
    "else :\n",
    "    print(\"It's a rectangle\")"
   ]
  },
  {
   "cell_type": "markdown",
   "metadata": {},
   "source": [
    "10) Take two int values from user and print greatest among them."
   ]
  },
  {
   "cell_type": "code",
   "execution_count": 32,
   "metadata": {},
   "outputs": [
    {
     "name": "stdout",
     "output_type": "stream",
     "text": [
      "Enter num1:  3\n",
      "Enter num2:  3\n"
     ]
    },
    {
     "name": "stdout",
     "output_type": "stream",
     "text": [
      "Both numbers are equal\n"
     ]
    }
   ],
   "source": [
    "# Type your code here\n",
    "a = int(input(\"Enter num1: \"))\n",
    "b = int(input(\"Enter num2: \"))\n",
    "if(a>b) :\n",
    "    print(\"Num1 is greater than Num2\")\n",
    "elif(a<b) :\n",
    "    print(\"Num2 is greater than Num1\")\n",
    "else :\n",
    "    print(\"Both numbers are equal\")"
   ]
  },
  {
   "cell_type": "markdown",
   "metadata": {},
   "source": [
    "11) A shop will give discount of 10% if the cost of purchased quantity is more than 1000.\n",
    "Ask user for quantity\n",
    "Suppose, one unit will cost 100.\n",
    "Judge and print total cost for user."
   ]
  },
  {
   "cell_type": "code",
   "execution_count": 33,
   "metadata": {},
   "outputs": [
    {
     "name": "stdout",
     "output_type": "stream",
     "text": [
      "Enter the quantity 12\n"
     ]
    },
    {
     "name": "stdout",
     "output_type": "stream",
     "text": [
      "The amount after the discount will be:  1140.0\n"
     ]
    }
   ],
   "source": [
    "#Type your code here\n",
    "qty = int(input(\"Enter the quantity\"))\n",
    "single_unit = 100\n",
    "if((qty*single_unit) > 1000) :\n",
    "    print(\"The amount after the discount will be: \",(qty*single_unit)-(5/100)*(qty*single_unit))\n",
    "else :\n",
    "    print(\"There will be no discount and the amount will be\",(qty*single_unit))"
   ]
  },
  {
   "cell_type": "markdown",
   "metadata": {},
   "source": [
    "12) A school has following rules for grading system:\n",
    "\n",
    "a. Below 25 - F\n",
    "\n",
    "b. 25 to 45 - E\n",
    "\n",
    "c. 45 to 50 - D\n",
    "\n",
    "d. 50 to 60 - C\n",
    "\n",
    "e. 60 to 80 - B\n",
    "\n",
    "f. Above 80 - A\n",
    "\n",
    "Ask user to enter marks and print the corresponding grade."
   ]
  },
  {
   "cell_type": "code",
   "execution_count": 38,
   "metadata": {},
   "outputs": [
    {
     "name": "stdout",
     "output_type": "stream",
     "text": [
      "Enter your marks:  95\n"
     ]
    },
    {
     "name": "stdout",
     "output_type": "stream",
     "text": [
      "Grade-A\n"
     ]
    }
   ],
   "source": [
    "#Type your code here\n",
    "marks = int(input(\"Enter your marks: \"))\n",
    "if(marks>=80 and marks<=100) :\n",
    "    print(\"Grade-A\")\n",
    "elif(marks>=60 and marks<80) :\n",
    "    print(\"Grade-B\")\n",
    "elif(marks>=50 and marks<60) :\n",
    "    print(\"Grade-C\")\n",
    "elif(marks>=45 and marks<50) :\n",
    "    print(\"Grade-D\")\n",
    "elif(marks>=25 and marks<45) :\n",
    "    print(\"Grade-E\")\n",
    "else :\n",
    "    print(\"Grade-F\")"
   ]
  },
  {
   "cell_type": "markdown",
   "metadata": {},
   "source": [
    "14)A student will not be allowed to sit in exam if his/her attendence is less than 75%.\n",
    "\n",
    "Take following input from user\n",
    "\n",
    "- Number of classes held\n",
    "\n",
    "- Number of classes attended.\n",
    "\n",
    "And print\n",
    "\n",
    "- percentage of class attended\n",
    "\n",
    "- Is student is allowed to sit in exam or not.\n"
   ]
  },
  {
   "cell_type": "code",
   "execution_count": 41,
   "metadata": {},
   "outputs": [
    {
     "name": "stdout",
     "output_type": "stream",
     "text": [
      "Enter the number of classes held:  34\n",
      "Enter the number of classes attended:  24\n"
     ]
    },
    {
     "name": "stdout",
     "output_type": "stream",
     "text": [
      "Percentage of class attended 70.58823529411765\n",
      "Not allowed\n"
     ]
    }
   ],
   "source": [
    "#Type your code here\n",
    "classes_held =int(input(\"Enter the number of classes held: \"))\n",
    "classes_attended =int(input(\"Enter the number of classes attended: \"))\n",
    "print(\"Percentage of class attended\",(classes_attended/classes_held)*100)\n",
    "perc = (classes_attended/classes_held)*100\n",
    "if(perc>75) :\n",
    "    print(\"He is allowed to sit in the exam\")\n",
    "else :\n",
    "    print(\"Not allowed to sit in the exam\")"
   ]
  },
  {
   "cell_type": "markdown",
   "metadata": {},
   "source": [
    "15) Modify the above question to allow student to sit if he/she has medical cause. Ask user if he/she has medical cause or not ( 'Y' or 'N' ) and print accordingly."
   ]
  },
  {
   "cell_type": "code",
   "execution_count": 46,
   "metadata": {},
   "outputs": [
    {
     "name": "stdout",
     "output_type": "stream",
     "text": [
      "Enter the number of classes held:  34\n",
      "Enter the number of classes attended:  24\n",
      "Enter Y or N N\n"
     ]
    },
    {
     "name": "stdout",
     "output_type": "stream",
     "text": [
      "Percentage of class attended 70.58823529411765\n",
      "Not allowed to sit in the exam\n"
     ]
    }
   ],
   "source": [
    "#Type your code here\n",
    "classes_held =int(input(\"Enter the number of classes held: \"))\n",
    "classes_attended =int(input(\"Enter the number of classes attended: \"))\n",
    "med_cause = input(\"Enter Y or N: \")\n",
    "print(\"Percentage of class attended\",(classes_attended/classes_held)*100)\n",
    "perc = (classes_attended/classes_held)*100\n",
    "if(med_cause == 'N') :\n",
    "    if(perc>75) :\n",
    "        print(\"He is allowed to sit in the exam\")\n",
    "    else :\n",
    "        print(\"Not allowed to sit in the exam\")\n",
    "else :\n",
    "    print(\"Allowed to sit in the exam\")\n",
    "\n"
   ]
  },
  {
   "cell_type": "markdown",
   "metadata": {},
   "source": [
    "16) Write a program to check if a year is leap year or not.\n",
    "\n",
    "If a year is divisible by 4 then it is leap year but if the year is century year like 2000, 1900, 2100 then it must be divisible by 400."
   ]
  },
  {
   "cell_type": "code",
   "execution_count": 47,
   "metadata": {},
   "outputs": [
    {
     "name": "stdout",
     "output_type": "stream",
     "text": [
      "Enter the year 2016\n"
     ]
    },
    {
     "name": "stdout",
     "output_type": "stream",
     "text": [
      "It's a leap year\n"
     ]
    }
   ],
   "source": [
    "#Type your code here\n",
    "year = int(input(\"Enter the year\"))\n",
    "if(year%4 == 0 or year%400 == 0) :\n",
    "    print(\"It's a leap year\")\n",
    "else :\n",
    "    print(\"Not a leap year\")"
   ]
  },
  {
   "cell_type": "markdown",
   "metadata": {},
   "source": [
    "17) Ask user to enter age, gender ( M or F ), marital status ( Y or N ) and then using following rules print their place of service.\n",
    "\n",
    "if employee is female, then she will work only in urban areas.\n",
    "\n",
    "if employee is a male and age is in between 20 to 40 then he may work in anywhere\n",
    "\n",
    "if employee is male and age is in between 40 t0 60 then he will work in urban areas only.\n",
    "\n",
    "And any other input of age should print \"ERROR\""
   ]
  },
  {
   "cell_type": "code",
   "execution_count": 4,
   "metadata": {},
   "outputs": [
    {
     "name": "stdout",
     "output_type": "stream",
     "text": [
      "Enter your age:  34\n",
      "Enter your gender(M or F):  M\n",
      "Enter your marital status (Y or N):  N\n"
     ]
    },
    {
     "name": "stdout",
     "output_type": "stream",
     "text": [
      "He can work anywhere\n"
     ]
    }
   ],
   "source": [
    "#Type your code here\n",
    "age = int(input(\"Enter your age: \"))\n",
    "gender = input(\"Enter your gender(M or F): \")\n",
    "marital_status = input(\"Enter your marital status (Y or N): \")\n",
    "if(gender == 'F') :\n",
    "    print(\"Only work in urban areas\")\n",
    "else :\n",
    "    if(age>=20 and age<=40) :\n",
    "        print(\"He can work anywhere\")\n",
    "    elif(age>=40 and age<=60) :\n",
    "        print(\"He will work in urban areas only\")\n",
    "    else :\n",
    "        print(\"ERROR\")\n",
    "\n"
   ]
  },
  {
   "cell_type": "markdown",
   "metadata": {},
   "source": [
    "6) Write a program to calculate the electricity bill (accept number of unit from user) according to the following criteria :\n",
    "     Unit                                                     Price  \n",
    "uptp 100 units                                             no charge\n",
    "Next 200 units                                              Rs 5 per unit\n",
    "After 200 units                                             Rs 10 per unit\n",
    "(For example if input unit is 350 than total bill amount is Rs.3500\n",
    "(For example if input unit is 97 than total bill amount is Rs.0\n",
    "(For example if input unit is 150 than total bill amount is Rs.750"
   ]
  },
  {
   "cell_type": "code",
   "execution_count": 12,
   "metadata": {},
   "outputs": [
    {
     "name": "stdout",
     "output_type": "stream",
     "text": [
      "Number of units are 23\n"
     ]
    },
    {
     "name": "stdout",
     "output_type": "stream",
     "text": [
      "No charge\n"
     ]
    }
   ],
   "source": [
    "num_of_units = int(input(\"Number of units are\"))\n",
    "if(num_of_units<=100) :\n",
    "    print(\"No charge\")\n",
    "elif(num_of_units<=200) :\n",
    "    print(\"Your electricity bill would be: \",num_of_units*5)\n",
    "else :\n",
    "    print(\"Your electricity bill would be: \",num_of_units*10)"
   ]
  },
  {
   "cell_type": "markdown",
   "metadata": {},
   "source": [
    "13) Take input of age of 3 people by user and determine oldest and youngest among them."
   ]
  },
  {
   "cell_type": "code",
   "execution_count": 8,
   "metadata": {},
   "outputs": [
    {
     "name": "stdout",
     "output_type": "stream",
     "text": [
      "Enter your age:  23\n",
      "Enter your age:  67\n",
      "Enter your age:  56\n"
     ]
    },
    {
     "name": "stdout",
     "output_type": "stream",
     "text": [
      "Person2 is oldest\n",
      "Person1 is youngest\n"
     ]
    }
   ],
   "source": [
    "#Type your code here\n",
    "p1 = int(input(\"Person1 age: \"))\n",
    "p2 = int(input(\"Person2 age: \"))\n",
    "p3 = int(input(\"Person3 age: \"))\n",
    "if (p1>p2 and p1>p3) :\n",
    "    print(\"Person1 is oldest\")\n",
    "elif (p2>p1 and p2>p3) :\n",
    "    print(\"Person2 is oldest\")\n",
    "else :\n",
    "    print(\"Person3 is oldest\")\n",
    "if(p1<p2 and p1<p3) :\n",
    "    print(\"Person1 is youngest\")\n",
    "elif (p2<p1 and p2<p3) :\n",
    "    print(\"Person2 is youngest\")\n",
    "else :\n",
    "    print(\"Person3 is youngest\")"
   ]
  },
  {
   "cell_type": "code",
   "execution_count": null,
   "metadata": {},
   "outputs": [],
   "source": []
  }
 ],
 "metadata": {
  "kernelspec": {
   "display_name": "Python 3",
   "language": "python",
   "name": "python3"
  },
  "language_info": {
   "codemirror_mode": {
    "name": "ipython",
    "version": 3
   },
   "file_extension": ".py",
   "mimetype": "text/x-python",
   "name": "python",
   "nbconvert_exporter": "python",
   "pygments_lexer": "ipython3",
   "version": "3.13.2"
  }
 },
 "nbformat": 4,
 "nbformat_minor": 4
}
